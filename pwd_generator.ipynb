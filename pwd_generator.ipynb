{
  "nbformat": 4,
  "nbformat_minor": 0,
  "metadata": {
    "colab": {
      "name": "pwd_generator.ipynb",
      "provenance": [],
      "authorship_tag": "ABX9TyOqgWvQfc784J1pOoXXi3eD",
      "include_colab_link": true
    },
    "kernelspec": {
      "name": "python3",
      "display_name": "Python 3"
    },
    "language_info": {
      "name": "python"
    }
  },
  "cells": [
    {
      "cell_type": "markdown",
      "metadata": {
        "id": "view-in-github",
        "colab_type": "text"
      },
      "source": [
        "<a href=\"https://colab.research.google.com/github/contourdesign/password-generator/blob/main/pwd_generator.ipynb\" target=\"_parent\"><img src=\"https://colab.research.google.com/assets/colab-badge.svg\" alt=\"Open In Colab\"/></a>"
      ]
    },
    {
      "cell_type": "code",
      "metadata": {
        "id": "MWJNtwSWdzN9"
      },
      "source": [
        "# Password Generator"
      ],
      "execution_count": 1,
      "outputs": []
    },
    {
      "cell_type": "code",
      "metadata": {
        "id": "_QvwMPhcd4NS"
      },
      "source": [
        "import string\n",
        "import random\n"
      ],
      "execution_count": 2,
      "outputs": []
    },
    {
      "cell_type": "code",
      "metadata": {
        "colab": {
          "base_uri": "https://localhost:8080/"
        },
        "id": "ijcihWo6d9W_",
        "outputId": "907b00d4-620b-4b16-cdc4-a1f9d2e89e8b"
      },
      "source": [
        "# characteristics of password\n",
        "\n",
        "while True:\n",
        "  num_min_characters = int(input('min number of characters:'))\n",
        "  num_cap_letters = int(input('number of capital letters:'))\n",
        "  num_punctuations = int(input('number of punctuations:'))\n",
        "  num_digits = int(input('number of digits:'))\n",
        "  pass_length = int(input('how many characters for your password?: '))\n",
        "\n",
        "  if num_min_characters >= (num_cap_letters + num_punctuations + num_digits) and pass_length >= num_min_characters:\n",
        "    break\n",
        "  else:\n",
        "    print('the num of minimim chars is not sufficient')\n",
        "    print()\n",
        "    "
      ],
      "execution_count": 22,
      "outputs": [
        {
          "output_type": "stream",
          "text": [
            "min number of characters:6\n",
            "number of capital letters:1\n",
            "number of punctuations:1\n",
            "number of digits:2\n",
            "how many characters for your password?: 8\n"
          ],
          "name": "stdout"
        }
      ]
    },
    {
      "cell_type": "code",
      "metadata": {
        "id": "oWnTSZOlfHxy"
      },
      "source": [
        "# get random elements for above password requirements\n",
        "\n",
        "caps = []\n",
        "\n",
        "for i in range(0, num_cap_letters):\n",
        "  caps.append(random.choice(string.ascii_letters).upper())\n",
        "\n",
        "puncts = []\n",
        "\n",
        "for i in range(0, num_punctuations):\n",
        "  puncts.append(random.choice(string.punctuation))\n",
        "\n",
        "digits = []\n",
        "\n",
        "for i in range(0, num_digits):\n",
        "  digits.append(random.choice(string.digits))"
      ],
      "execution_count": 23,
      "outputs": []
    },
    {
      "cell_type": "code",
      "metadata": {
        "colab": {
          "base_uri": "https://localhost:8080/"
        },
        "id": "5QOGvwJgf9Sv",
        "outputId": "6111d715-ad2d-4178-ea67-811f602c92ee"
      },
      "source": [
        "# combine randoms\n",
        "\n",
        "password_requirements = caps + puncts + digits\n",
        "password_requirements"
      ],
      "execution_count": 24,
      "outputs": [
        {
          "output_type": "execute_result",
          "data": {
            "text/plain": [
              "['W', '}', '6', '2']"
            ]
          },
          "metadata": {
            "tags": []
          },
          "execution_count": 24
        }
      ]
    },
    {
      "cell_type": "code",
      "metadata": {
        "id": "Km7yoAGJgEpP"
      },
      "source": [
        "# fill in the rest with random letters\n",
        "pass_length = pass_length - num_min_characters\n",
        "password = []\n",
        "for i in range(0, pass_length):\n",
        "  password.append(random.choice(string.ascii_letters).lower())"
      ],
      "execution_count": 25,
      "outputs": []
    },
    {
      "cell_type": "code",
      "metadata": {
        "colab": {
          "base_uri": "https://localhost:8080/"
        },
        "id": "yQr8PPy_gqYT",
        "outputId": "52c1732f-16ee-4ca5-acea-ccbbd079ca52"
      },
      "source": [
        "password"
      ],
      "execution_count": 26,
      "outputs": [
        {
          "output_type": "execute_result",
          "data": {
            "text/plain": [
              "['v', 'u']"
            ]
          },
          "metadata": {
            "tags": []
          },
          "execution_count": 26
        }
      ]
    },
    {
      "cell_type": "code",
      "metadata": {
        "id": "BHFwMIJAgsLf"
      },
      "source": [
        "# combine the two \n",
        "for char in password_requirements:\n",
        "  password.append(char)"
      ],
      "execution_count": 27,
      "outputs": []
    },
    {
      "cell_type": "code",
      "metadata": {
        "colab": {
          "base_uri": "https://localhost:8080/"
        },
        "id": "ohY-Dmgzg29W",
        "outputId": "a2d15e84-1e43-418d-bd2e-4cf31648ee97"
      },
      "source": [
        "password"
      ],
      "execution_count": 28,
      "outputs": [
        {
          "output_type": "execute_result",
          "data": {
            "text/plain": [
              "['v', 'u', 'W', '}', '6', '2']"
            ]
          },
          "metadata": {
            "tags": []
          },
          "execution_count": 28
        }
      ]
    },
    {
      "cell_type": "code",
      "metadata": {
        "id": "FaJ6QL60g4Yf"
      },
      "source": [
        "random.shuffle(password)"
      ],
      "execution_count": 29,
      "outputs": []
    },
    {
      "cell_type": "code",
      "metadata": {
        "colab": {
          "base_uri": "https://localhost:8080/"
        },
        "id": "9hrPGbERg9j_",
        "outputId": "011d0583-f5ae-4c47-fbf3-98032acafafb"
      },
      "source": [
        "password"
      ],
      "execution_count": 30,
      "outputs": [
        {
          "output_type": "execute_result",
          "data": {
            "text/plain": [
              "['2', '6', 'W', '}', 'v', 'u']"
            ]
          },
          "metadata": {
            "tags": []
          },
          "execution_count": 30
        }
      ]
    },
    {
      "cell_type": "code",
      "metadata": {
        "colab": {
          "base_uri": "https://localhost:8080/",
          "height": 35
        },
        "id": "JS8IW1mfg-na",
        "outputId": "ca2b8360-83fc-4fb9-9c34-3318e1ebcf43"
      },
      "source": [
        "''.join(password)"
      ],
      "execution_count": 31,
      "outputs": [
        {
          "output_type": "execute_result",
          "data": {
            "application/vnd.google.colaboratory.intrinsic+json": {
              "type": "string"
            },
            "text/plain": [
              "'26W}vu'"
            ]
          },
          "metadata": {
            "tags": []
          },
          "execution_count": 31
        }
      ]
    },
    {
      "cell_type": "code",
      "metadata": {
        "id": "sJUsQNw6hUn6"
      },
      "source": [
        ""
      ],
      "execution_count": null,
      "outputs": []
    }
  ]
}